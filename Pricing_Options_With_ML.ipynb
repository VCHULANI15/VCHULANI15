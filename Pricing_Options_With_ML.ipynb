{
  "nbformat": 4,
  "nbformat_minor": 0,
  "metadata": {
    "colab": {
      "provenance": [],
      "authorship_tag": "ABX9TyNoZK9sQsuJJlW/G8a+SluJ",
      "include_colab_link": true
    },
    "kernelspec": {
      "name": "python3",
      "display_name": "Python 3"
    },
    "language_info": {
      "name": "python"
    }
  },
  "cells": [
    {
      "cell_type": "markdown",
      "metadata": {
        "id": "view-in-github",
        "colab_type": "text"
      },
      "source": [
        "<a href=\"https://colab.research.google.com/github/VCHULANI15/VCHULANI15/blob/main/Pricing_Options_With_ML.ipynb\" target=\"_parent\"><img src=\"https://colab.research.google.com/assets/colab-badge.svg\" alt=\"Open In Colab\"/></a>"
      ]
    },
    {
      "cell_type": "code",
      "execution_count": 2,
      "metadata": {
        "id": "adTnhNn0Y605"
      },
      "outputs": [],
      "source": [
        "#Importing necessary libraries for manipulating data\n",
        "import numpy as np\n",
        "import pandas as pd\n",
        "import seaborn as sns\n",
        "\n",
        "#Plot Library\n",
        "import matplotlib.pyplot as plt\n",
        "import plotly.express as px\n",
        "from plotnine import *\n",
        "\n",
        "#Sklearn Library\n",
        "from sklearn.metrics import mean_absolute_error, accuracy_score, f1_score, precision_score, recall_score, roc_auc_score, median_absolute_error, mean_squared_error, r2_score, mean_absolute_error, classification_report\n",
        "from sklearn.neural_network import MLPRegressor\n",
        "from sklearn.preprocessing import PolynomialFeatures, StandardScaler\n",
        "from sklearn.linear_model import Lasso, LinearRegression\n",
        "from sklearn.pipeline import Pipeline\n",
        "from sklearn.ensemble import GradientBoostingRegressor, RandomForestRegressor\n",
        "from sklearn.tree import DecisionTreeRegressor\n",
        "from sklearn.model_selection import train_test_split\n",
        "from sklearn.compose import ColumnTransformer\n",
        "\n",
        "#Torch Data\n",
        "import torch\n",
        "import torch.nn.functional as F\n",
        "import torch.optim as optim\n",
        "import torch.nn as nn\n",
        "from torch.utils.data import TensorDataset, DataLoader\n",
        "from scipy.stats import norm\n",
        "from itertools import product\n"
      ]
    },
    {
      "cell_type": "code",
      "source": [
        "np.random.seed(42)\n",
        "\n",
        "n_samples = 100000\n",
        "\n",
        "Spot=np.random.uniform(50,150,n_samples)\n",
        "Strike=np.random.uniform(50,150,n_samples)\n",
        "TTM=np.random.uniform(0.25,2,n_samples)\n",
        "\n",
        "r=np.random.uniform(0.01,0.05,n_samples)\n",
        "\n",
        "sigma = np.random.uniform(0.1, 0.4, n_samples) + (Strike < Spot) * np.random.uniform(0.05, 0.15, n_samples)\n",
        "\n",
        "options_df = pd.DataFrame({\n",
        "    'Spot Price': Spot,\n",
        "    'Strike Price': Strike,\n",
        "    'TTM': TTM,\n",
        "    'Riks-Free Rate': r,\n",
        "    'Volatility': sigma\n",
        "})"
      ],
      "metadata": {
        "id": "oJ-A0eRtCQOT"
      },
      "execution_count": 5,
      "outputs": []
    }
  ]
}